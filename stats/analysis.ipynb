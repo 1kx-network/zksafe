{
 "cells": [
  {
   "cell_type": "code",
   "execution_count": 144,
   "metadata": {},
   "outputs": [],
   "source": [
    "import pandas as pd\n",
    "\n",
    "df = pd.read_csv('owner-threshold.csv', sep=';')\n",
    "df.columns = ['addr', 'threshold', 'owners']"
   ]
  },
  {
   "cell_type": "code",
   "execution_count": 145,
   "metadata": {},
   "outputs": [],
   "source": [
    "df.dropna(inplace=True)"
   ]
  },
  {
   "cell_type": "code",
   "execution_count": 146,
   "metadata": {},
   "outputs": [],
   "source": [
    "def convert_threshold(threshold):\n",
    "    if threshold.startswith('0x'):\n",
    "        if threshold[2:]:\n",
    "            return int(threshold[2:], 16)\n",
    "        else:\n",
    "            return 0\n",
    "    else:\n",
    "        return 0"
   ]
  },
  {
   "cell_type": "code",
   "execution_count": 147,
   "metadata": {},
   "outputs": [],
   "source": [
    "df['threshold'] = df['threshold'].apply(convert_threshold)\n"
   ]
  },
  {
   "cell_type": "code",
   "execution_count": 154,
   "metadata": {},
   "outputs": [],
   "source": [
    "df['owners'] = df.owners.str.slice(1, -1).str.split(',')"
   ]
  },
  {
   "cell_type": "code",
   "execution_count": 155,
   "metadata": {},
   "outputs": [],
   "source": [
    "df['num_owners'] = df['owners'].apply(len)"
   ]
  },
  {
   "cell_type": "code",
   "execution_count": 156,
   "metadata": {},
   "outputs": [
    {
     "data": {
      "text/plain": [
       "Text(0.5, 1.0, 'Number of owners per multisig wallet')"
      ]
     },
     "execution_count": 156,
     "metadata": {},
     "output_type": "execute_result"
    },
    {
     "data": {
      "image/png": "[encoded data removed]",
      "text/plain": [
       "<Figure size 640x480 with 1 Axes>"
      ]
     },
     "metadata": {},
     "output_type": "display_data"
    }
   ],
   "source": [
    "plot = df.plot.hist(y='num_owners', bins=range(1, 25), rwidth=0.8, align='left', legend=False)\n",
    "plot.set_title('Number of owners per multisig wallet')"
   ]
  },
  {
   "cell_type": "code",
   "execution_count": 157,
   "metadata": {},
   "outputs": [],
   "source": [
    "quantile_95 = df['num_owners'].quantile(0.95)"
   ]
  },
  {
   "cell_type": "code",
   "execution_count": 158,
   "metadata": {},
   "outputs": [
    {
     "data": {
      "text/plain": [
       "count    213112.000000\n",
       "mean          2.436695\n",
       "std           4.000158\n",
       "min           1.000000\n",
       "25%           1.000000\n",
       "50%           2.000000\n",
       "75%           3.000000\n",
       "max         332.000000\n",
       "Name: num_owners, dtype: float64"
      ]
     },
     "execution_count": 158,
     "metadata": {},
     "output_type": "execute_result"
    }
   ],
   "source": [
    "df['num_owners'].describe()"
   ]
  },
  {
   "cell_type": "code",
   "execution_count": 152,
   "metadata": {},
   "outputs": [
    {
     "data": {
      "text/plain": [
       "1882"
      ]
     },
     "execution_count": 152,
     "metadata": {},
     "output_type": "execute_result"
    }
   ],
   "source": [
    "len(df[df['num_owners'] > 10])"
   ]
  },
  {
   "cell_type": "code",
   "execution_count": 181,
   "metadata": {},
   "outputs": [],
   "source": [
    "df_owners = df[[\"addr\", \"owners\"]].explode('owners')"
   ]
  },
  {
   "cell_type": "code",
   "execution_count": 187,
   "metadata": {},
   "outputs": [
    {
     "data": {
      "text/html": [
       "<div>\n",
       "<style scoped>\n",
       "    .dataframe tbody tr th:only-of-type {\n",
       "        vertical-align: middle;\n",
       "    }\n",
       "\n",
       "    .dataframe tbody tr th {\n",
       "        vertical-align: top;\n",
       "    }\n",
       "\n",
       "    .dataframe thead th {\n",
       "        text-align: right;\n",
       "    }\n",
       "</style>\n",
       "<table border=\"1\" class=\"dataframe\">\n",
       "  <thead>\n",
       "    <tr style=\"text-align: right;\">\n",
       "      <th></th>\n",
       "      <th>addr</th>\n",
       "    </tr>\n",
       "    <tr>\n",
       "      <th>owners</th>\n",
       "      <th></th>\n",
       "    </tr>\n",
       "  </thead>\n",
       "  <tbody>\n",
       "    <tr>\n",
       "      <th>0x2BB655A15c96776B5A8Fa75EFD22B2c030098FfF</th>\n",
       "      <td>418</td>\n",
       "    </tr>\n",
       "    <tr>\n",
       "      <th>0x8385225367d8fDa054f179983826197c621639e5</th>\n",
       "      <td>389</td>\n",
       "    </tr>\n",
       "    <tr>\n",
       "      <th>0x0D48ea9c9B3fD098F1E811fb1028e9437DD246B3</th>\n",
       "      <td>324</td>\n",
       "    </tr>\n",
       "    <tr>\n",
       "      <th>0x5Fc96c182Bb7E0413c08e8e03e9d7EFc6cf0B099</th>\n",
       "      <td>261</td>\n",
       "    </tr>\n",
       "    <tr>\n",
       "      <th>0xa9d8188B35f05ab9a07454eA412A2dA6F1eBD036</th>\n",
       "      <td>260</td>\n",
       "    </tr>\n",
       "    <tr>\n",
       "      <th>0xa643c0FCf6e0D5C4a5F0dD78B3aaf7B900a4a4E3</th>\n",
       "      <td>248</td>\n",
       "    </tr>\n",
       "    <tr>\n",
       "      <th>0xCD2bC1877aDc1E55289F8F1F17DeEaC798159c33</th>\n",
       "      <td>248</td>\n",
       "    </tr>\n",
       "    <tr>\n",
       "      <th>0x13e23E7D27764c1194db4d07714c73fa4E5bA591</th>\n",
       "      <td>248</td>\n",
       "    </tr>\n",
       "    <tr>\n",
       "      <th>0xb407bc1aB7Bc04A0dd90594Ec02ce7d8436dfc0B</th>\n",
       "      <td>248</td>\n",
       "    </tr>\n",
       "    <tr>\n",
       "      <th>0x8f9a9643BAE4668a1522b8efa6E2822858aD073e</th>\n",
       "      <td>247</td>\n",
       "    </tr>\n",
       "    <tr>\n",
       "      <th>0x7bf173bF2132441eF5e0Fd6314746EaF889a62fC</th>\n",
       "      <td>243</td>\n",
       "    </tr>\n",
       "    <tr>\n",
       "      <th>0x43F641fA70e09f0326ac66b4Ef0C416EaEcBC6f5</th>\n",
       "      <td>229</td>\n",
       "    </tr>\n",
       "    <tr>\n",
       "      <th>0x2fca524B0FD6916F5369280AAEC82C49c1808068</th>\n",
       "      <td>225</td>\n",
       "    </tr>\n",
       "    <tr>\n",
       "      <th>0x1dE6828A438eC67bb364fd30E2f077C2bD0C3DfE</th>\n",
       "      <td>225</td>\n",
       "    </tr>\n",
       "    <tr>\n",
       "      <th>0x2aDB42D687332A9e4871C478F9Bf4AAa2249F379</th>\n",
       "      <td>225</td>\n",
       "    </tr>\n",
       "    <tr>\n",
       "      <th>0x65Fb99239760f4412f4DaC7F0fc378cbB1649b6c</th>\n",
       "      <td>224</td>\n",
       "    </tr>\n",
       "    <tr>\n",
       "      <th>0x1F994abb0c61f8eb390616e71406B05953785663</th>\n",
       "      <td>204</td>\n",
       "    </tr>\n",
       "    <tr>\n",
       "      <th>0xDecF20b9213f5d7f16196420377d37ef5f8F9686</th>\n",
       "      <td>202</td>\n",
       "    </tr>\n",
       "    <tr>\n",
       "      <th>0x4Bfa2D01c63b3c7d12f4c3c872EffA0CdF927EC6</th>\n",
       "      <td>199</td>\n",
       "    </tr>\n",
       "    <tr>\n",
       "      <th>0xa718599ce82733eD920979024f8bC45b75A226Ca</th>\n",
       "      <td>194</td>\n",
       "    </tr>\n",
       "  </tbody>\n",
       "</table>\n",
       "</div>"
      ],
      "text/plain": [
       "                                            addr\n",
       "owners                                          \n",
       "0x2BB655A15c96776B5A8Fa75EFD22B2c030098FfF   418\n",
       "0x8385225367d8fDa054f179983826197c621639e5   389\n",
       "0x0D48ea9c9B3fD098F1E811fb1028e9437DD246B3   324\n",
       "0x5Fc96c182Bb7E0413c08e8e03e9d7EFc6cf0B099   261\n",
       "0xa9d8188B35f05ab9a07454eA412A2dA6F1eBD036   260\n",
       "0xa643c0FCf6e0D5C4a5F0dD78B3aaf7B900a4a4E3   248\n",
       "0xCD2bC1877aDc1E55289F8F1F17DeEaC798159c33   248\n",
       "0x13e23E7D27764c1194db4d07714c73fa4E5bA591   248\n",
       "0xb407bc1aB7Bc04A0dd90594Ec02ce7d8436dfc0B   248\n",
       "0x8f9a9643BAE4668a1522b8efa6E2822858aD073e   247\n",
       "0x7bf173bF2132441eF5e0Fd6314746EaF889a62fC   243\n",
       "0x43F641fA70e09f0326ac66b4Ef0C416EaEcBC6f5   229\n",
       "0x2fca524B0FD6916F5369280AAEC82C49c1808068   225\n",
       "0x1dE6828A438eC67bb364fd30E2f077C2bD0C3DfE   225\n",
       "0x2aDB42D687332A9e4871C478F9Bf4AAa2249F379   225\n",
       "0x65Fb99239760f4412f4DaC7F0fc378cbB1649b6c   224\n",
       "0x1F994abb0c61f8eb390616e71406B05953785663   204\n",
       "0xDecF20b9213f5d7f16196420377d37ef5f8F9686   202\n",
       "0x4Bfa2D01c63b3c7d12f4c3c872EffA0CdF927EC6   199\n",
       "0xa718599ce82733eD920979024f8bC45b75A226Ca   194"
      ]
     },
     "execution_count": 187,
     "metadata": {},
     "output_type": "execute_result"
    }
   ],
   "source": [
    "df_owners.groupby(\"owners\").count().sort_values(by='addr', ascending=False).head(20)"
   ]
  }
 ],
 "metadata": {
  "kernelspec": {
   "display_name": "Python 3",
   "language": "python",
   "name": "python3"
  },
  "language_info": {
   "codemirror_mode": {
    "name": "ipython",
    "version": 3
   },
   "file_extension": ".py",
   "mimetype": "text/x-python",
   "name": "python",
   "nbconvert_exporter": "python",
   "pygments_lexer": "ipython3",
   "version": "3.11.4"
  }
 },
 "nbformat": 4,
 "nbformat_minor": 2
}
